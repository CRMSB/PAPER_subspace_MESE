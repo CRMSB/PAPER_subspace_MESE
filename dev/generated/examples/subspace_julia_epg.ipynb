{
 "cells": [
  {
   "cell_type": "markdown",
   "source": [
    "# Generate article figure"
   ],
   "metadata": {}
  },
  {
   "cell_type": "markdown",
   "source": [
    "## Description\n",
    "\n",
    "This example described how to perform a subspace reconstruction for $T_2$ mapping acceleration.\n",
    "This script is also used to generate the last figure of the article.\n",
    "\n",
    "![Reconstruction Pipeline](../../img/fig_bart_julia.png)\n",
    "\n",
    "To do so you need to edit `path_raw` to the bruker dataset available [here](https://zenodo.org/records/10514187)\n",
    "and you need to compile bart and edit `path_bart` to the compiled bart library"
   ],
   "metadata": {}
  },
  {
   "cell_type": "markdown",
   "source": [
    "## Setup and define global variable"
   ],
   "metadata": {}
  },
  {
   "outputs": [],
   "cell_type": "code",
   "source": [
    "using Subspace_MESE\n",
    "using Subspace_MESE.MRIFiles\n",
    "using Subspace_MESE.MRIReco\n",
    "using Subspace_MESE.MRICoilSensitivities\n",
    "using Subspace_MESE.LinearAlgebra\n",
    "using Subspace_MESE.FFTW\n",
    "using CairoMakie"
   ],
   "metadata": {},
   "execution_count": null
  },
  {
   "cell_type": "markdown",
   "source": [
    "## Define the path to the raw dataset\n",
    "If the folder/file does not exists we are in the github CI environement and we used for the plots the images"
   ],
   "metadata": {}
  },
  {
   "outputs": [],
   "cell_type": "code",
   "source": [
    "path_raw = \"/workspace_QMRI/PROJECTS_DATA/2021_RECH_mcT2_Bruker/PROJ_JULIA_MSME_CS/data/exp_raw/mouse_patho/20230317_085834_AT_MSME_CS_44_1_1/10\""
   ],
   "metadata": {},
   "execution_count": null
  },
  {
   "cell_type": "markdown",
   "source": [
    "define the path to the bart library"
   ],
   "metadata": {}
  },
  {
   "outputs": [],
   "cell_type": "code",
   "source": [
    "path_bart = \"/home/CODE/bart/bart\"\n",
    "\n",
    "slice_to_show = 55"
   ],
   "metadata": {},
   "execution_count": null
  },
  {
   "cell_type": "markdown",
   "source": [
    "## Load and convert the bruker dataset into an AcquisitionData object"
   ],
   "metadata": {}
  },
  {
   "outputs": [],
   "cell_type": "code",
   "source": [
    "b = BrukerFile(path_raw)\n",
    "\n",
    "raw = RawAcquisitionData_MESE(b)\n",
    "acq = AcquisitionData(raw,OffsetBruker = true);"
   ],
   "metadata": {},
   "execution_count": null
  },
  {
   "cell_type": "markdown",
   "source": [
    "## Estimate the coil sensitivity map with espirit"
   ],
   "metadata": {}
  },
  {
   "outputs": [],
   "cell_type": "code",
   "source": [
    "coilsens = espirit(acq,eigThresh_2=0.0);"
   ],
   "metadata": {},
   "execution_count": null
  },
  {
   "cell_type": "markdown",
   "source": [
    "## Undersampling Recontruction"
   ],
   "metadata": {}
  },
  {
   "outputs": [],
   "cell_type": "code",
   "source": [
    "params = Dict{Symbol,Any}()\n",
    "params[:reconSize] = acq.encodingSize\n",
    "params[:reco] = \"direct\"\n",
    "\n",
    "im_u = reconstruction(acq, params);\n",
    "im_u_sos = mergeChannels(im_u)\n",
    "\n",
    "heatmap(im_u_sos[:,:,55,15,1,1],colormap=:grays)"
   ],
   "metadata": {},
   "execution_count": null
  },
  {
   "cell_type": "markdown",
   "source": [
    "##  Generate basis from an EPG simulation"
   ],
   "metadata": {}
  },
  {
   "outputs": [],
   "cell_type": "code",
   "source": [
    "B1_vec = 0.8:0.01:1.0\n",
    "T2_vec = 1.0:1.0:2000.0\n",
    "T1_vec = 1000.0\n",
    "TE = 7.0\n",
    "TR = 1000.0\n",
    "dummy=3\n",
    "ETL = 50\n",
    "NUM_BASIS = 6\n",
    "basis_epg,_= MESE_basis_EPG(NUM_BASIS,TE,ETL,T2_vec,B1_vec,T1_vec;TR=TR,dummy=dummy)\n",
    "lines(abs.(basis_epg[:,2]))"
   ],
   "metadata": {},
   "execution_count": null
  },
  {
   "cell_type": "markdown",
   "source": [
    "## Subspace reconstruction with EPG dictionnary"
   ],
   "metadata": {}
  },
  {
   "outputs": [],
   "cell_type": "code",
   "source": [
    "params = Dict{Symbol,Any}()\n",
    "params[:reconSize] = acq.encodingSize\n",
    "params[:reco] = \"multiCoilMultiEchoSubspace\"\n",
    "\n",
    "params[:regularization] = \"L1\"\n",
    "params[:sparseTrafo] = \"Wavelet\" #sparse trafo\n",
    "params[:λ] = Float32(0.03)\n",
    "params[:solver] = \"fista\"\n",
    "params[:iterations] = 60\n",
    "#params[:iterationsInner] = 5\n",
    "params[:senseMaps] = coilsens\n",
    "params[:normalizeReg] = true\n",
    "params[:basis] = basis_epg\n",
    "\n",
    "α_epg = reconstruction(acq, params)\n",
    "im_TE_julia = abs.(applySubspace(α_epg, params[:basis]));"
   ],
   "metadata": {},
   "execution_count": null
  },
  {
   "cell_type": "markdown",
   "source": [
    "## BART reco\n",
    "In order to use BartIO, we need to send the path to the bart library.\n",
    "You can check that it works with the following code\n",
    "```julia\n",
    "BartIO.set_bart_path(\"path_bart\")\n",
    "bart()\n",
    "```"
   ],
   "metadata": {}
  },
  {
   "outputs": [],
   "cell_type": "code",
   "source": [
    "if isfile(path_bart)\n",
    "    using Subspace_MESE.BartIO\n",
    "\n",
    "    params[:λ] = Float32(0.0025)\n",
    "    im_sub_bart,im_TE_bart = subspace_bart_reconstruction(acq,params,path_bart)\n",
    "end;"
   ],
   "metadata": {},
   "execution_count": null
  },
  {
   "cell_type": "markdown",
   "source": [
    "## Fit the data to obtain T₂ maps"
   ],
   "metadata": {}
  },
  {
   "outputs": [],
   "cell_type": "code",
   "source": [
    "TE_vec = Float32.(LinRange(TE,TE*ETL,ETL))\n",
    "\n",
    "fit_und= Subspace_MESE.T2Fit_exp_noise(abs.(im_u_sos[:,:,slice_to_show,:,1,1]),TE_vec;removePoint=true,L=4)\n",
    "fit_julia = Subspace_MESE.T2Fit_exp_noise(abs.(im_TE_julia[:,:,slice_to_show,:,1,1]),TE_vec;removePoint=true,L=4)\n",
    "if isfile(path_bart)\n",
    "    fit_bart = Subspace_MESE.T2Fit_exp_noise(abs.(im_TE_bart[:,:,slice_to_show,1,1,:]),TE_vec;removePoint=true,L=4)\n",
    "end;"
   ],
   "metadata": {},
   "execution_count": null
  },
  {
   "cell_type": "markdown",
   "source": [
    "## Generating article figure 8"
   ],
   "metadata": {}
  },
  {
   "outputs": [],
   "cell_type": "code",
   "source": [
    "using CairoMakie.Makie.MakieCore\n",
    "\n",
    "titlesize=20\n",
    "ylabelsize=20\n",
    "aspect = DataAspect()\n",
    "\n",
    "f=Figure(size=(1200,1000))\n",
    "#plot echo 1\n",
    "colorrange=MakieCore.Automatic()\n",
    "colormap=:grays\n",
    "\n",
    "ax = Axis(f[1,1];title=\"FFT\\n \",ylabel = \"Echo n°1\\nTE = 7 ms\",titlesize,ylabelsize)\n",
    "heatmap!(ax,im_u_sos[:,:,slice_to_show,1,1,1];colorrange,colormap)\n",
    "hidedecorations!(ax,label=false)\n",
    "ax = Axis(f[1,2];title=\"MRIReco\\nW=0.03\",titlesize)\n",
    "heatmap!(ax,im_TE_julia[:,:,slice_to_show,1,1,1];colorrange,colormap)\n",
    "hidedecorations!(ax)\n",
    "\n",
    "if(isfile(path_bart))\n",
    "    ax = Axis(f[1,3];title=\"BART\\nW=0.0025\",titlesize)\n",
    "    heatmap!(ax,abs.(im_TE_bart[:,:,slice_to_show,1,1,1]);colorrange,colormap)\n",
    "    hidedecorations!(ax)\n",
    "end\n",
    "\n",
    "#plot echo 10\n",
    "\n",
    "ax = Axis(f[2,1];ylabel = \"Echo n°10\\nTE = 70 ms\",titlesize,ylabelsize)\n",
    "heatmap!(ax,im_u_sos[:,:,slice_to_show,10,1,1];colorrange,colormap)\n",
    "hidedecorations!(ax,label=false)\n",
    "ax = Axis(f[2,2];titlesize)\n",
    "heatmap!(ax,im_TE_julia[:,:,slice_to_show,10,1,1];colorrange,colormap)\n",
    "hidedecorations!(ax)\n",
    "\n",
    "if(isfile(path_bart))\n",
    "    ax = Axis(f[2,3];titlesize)\n",
    "    heatmap!(ax,abs.(im_TE_bart[:,:,slice_to_show,1,1,10]);colorrange,colormap)\n",
    "    hidedecorations!(ax)\n",
    "end\n",
    "\n",
    "#plot T2 map\n",
    "colorrange=(0,150)\n",
    "colormap=:magma\n",
    "\n",
    "ax = Axis(f[3,1];ylabel = \"T₂ map\",titlesize,ylabelsize)\n",
    "heatmap!(ax,fit_und[:,:,2];colorrange,colormap)\n",
    "hidedecorations!(ax,label=false)\n",
    "ax = Axis(f[3,2])\n",
    "h=heatmap!(ax,fit_julia[:,:,2];colorrange,colormap)\n",
    "hidedecorations!(ax)\n",
    "if(isfile(path_bart))\n",
    "    ax = Axis(f[3,3])\n",
    "    heatmap!(ax,fit_bart[:,:,2];colorrange,colormap)\n",
    "    hidedecorations!(ax)\n",
    "end\n",
    "\n",
    "Colorbar(f[3,end+1],h,label = \"T₂ [ms]\",labelrotation=-pi/2,labelsize=20)\n",
    "\n",
    "f\n",
    "\n",
    "save(\"fig_bart_julia.png\",f)\n",
    "save(\"fig_bart_julia.eps\",f)\n",
    "save(\"fig_bart_julia.pdf\",f)"
   ],
   "metadata": {},
   "execution_count": null
  },
  {
   "cell_type": "markdown",
   "source": [
    "---\n",
    "\n",
    "*This notebook was generated using [Literate.jl](https://github.com/fredrikekre/Literate.jl).*"
   ],
   "metadata": {}
  }
 ],
 "nbformat_minor": 3,
 "metadata": {
  "language_info": {
   "file_extension": ".jl",
   "mimetype": "application/julia",
   "name": "julia",
   "version": "1.10.0"
  },
  "kernelspec": {
   "name": "julia-1.10",
   "display_name": "Julia 1.10.0",
   "language": "julia"
  }
 },
 "nbformat": 4
}
