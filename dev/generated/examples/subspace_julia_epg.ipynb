{
 "cells": [
  {
   "cell_type": "markdown",
   "source": [
    "# Generate figure 8"
   ],
   "metadata": {}
  },
  {
   "cell_type": "markdown",
   "source": [
    "## Description\n",
    "\n",
    "This example describes how to perform a subspace reconstruction for $T_2$ mapping.\n",
    "This script is also used to generate the last figure of the article.\n",
    "\n",
    "![Reconstruction Pipeline](../../img/fig_bart_julia.png)"
   ],
   "metadata": {}
  },
  {
   "cell_type": "markdown",
   "source": [
    "## Reproducibility setup\n",
    "\n",
    "In order to reproduce figure 8, you need to :\n",
    "- compile the BART toolbox : https://mrirecon.github.io/bart/ (you can skip this step if you don't want to plot the BART reconstruction). After compilation/installation you can check the library path with `which bart`\n",
    "- download the dataset : https://zenodo.org/records/10610639 and extract the zip file.\n",
    "- download the current repository : `git clone https://github.com/aTrotier/PAPER_subspace_MESE`\n",
    "- Open a terminal and move to the docs folder in this repository\n",
    "- edit the script in `docs/lit/example/subspace_julia_epg.jl` and put the correct path in the variable\n",
    "  - line 46 : `path_raw` should point to the bruker folder `10`\n",
    "  - line 49 : `path_bart` should point to the compiled bart library\n",
    "- launch julia in the docs folder with this command in the terminal: `julia --project -t auto`\n",
    "- run the literate example :\n",
    "  ```julia\n",
    "  using Pkg\n",
    "  Pkg.add(url=\"https://github.com/aTrotier/PAPER_subspace_MESE\")\n",
    "  Pkg.instantiate()\n",
    "  include(\"lit/examples/subspace_julia_epg.jl\")\n",
    "  ```\n",
    "The figure will be saved as `fig_bart_julia.png` in the `docs` folder."
   ],
   "metadata": {}
  },
  {
   "cell_type": "markdown",
   "source": [
    "## Load package"
   ],
   "metadata": {}
  },
  {
   "outputs": [],
   "cell_type": "code",
   "source": [
    "using Subspace_MESE\n",
    "using Subspace_MESE.MRIFiles\n",
    "using Subspace_MESE.MRIReco\n",
    "using Subspace_MESE.MRICoilSensitivities\n",
    "using Subspace_MESE.LinearAlgebra\n",
    "using Subspace_MESE.FFTW\n",
    "using CairoMakie"
   ],
   "metadata": {},
   "execution_count": null
  },
  {
   "cell_type": "markdown",
   "source": [
    "## Define paths"
   ],
   "metadata": {}
  },
  {
   "outputs": [],
   "cell_type": "code",
   "source": [
    "#to the raw dataset :\n",
    "\n",
    "path_raw = \"/workspace_QMRI/PROJECTS_DATA/2021_RECH_mcT2_Bruker/PROJ_JULIA_MSME_CS/data/exp_raw/mouse_patho/20230317_085834_AT_MSME_CS_44_1_1/10\"\n",
    "\n",
    "#and to the bart library :\n",
    "path_bart = \"/home/CODE/bart/bart\"\n",
    "\n",
    "slice_to_show = 55"
   ],
   "metadata": {},
   "execution_count": null
  },
  {
   "cell_type": "markdown",
   "source": [
    "## Load and convert the bruker dataset into an AcquisitionData object"
   ],
   "metadata": {}
  },
  {
   "outputs": [],
   "cell_type": "code",
   "source": [
    "b = BrukerFile(path_raw)\n",
    "\n",
    "raw = RawAcquisitionData_MESE(b)\n",
    "acq = AcquisitionData(raw,OffsetBruker = true);"
   ],
   "metadata": {},
   "execution_count": null
  },
  {
   "cell_type": "markdown",
   "source": [
    "## Estimate the coil sensitivity map with espirit"
   ],
   "metadata": {}
  },
  {
   "outputs": [],
   "cell_type": "code",
   "source": [
    "coilsens = espirit(acq,eigThresh_2=0.0);"
   ],
   "metadata": {},
   "execution_count": null
  },
  {
   "cell_type": "markdown",
   "source": [
    "## Direct reconstruction of undersampled acquisition"
   ],
   "metadata": {}
  },
  {
   "outputs": [],
   "cell_type": "code",
   "source": [
    "params = Dict{Symbol,Any}()\n",
    "params[:reconSize] = acq.encodingSize\n",
    "params[:reco] = \"direct\"\n",
    "\n",
    "im_u = reconstruction(acq, params);\n",
    "im_u_sos = mergeChannels(im_u)\n",
    "\n",
    "heatmap(im_u_sos[:,:,55,15,1,1],colormap=:grays)"
   ],
   "metadata": {},
   "execution_count": null
  },
  {
   "cell_type": "markdown",
   "source": [
    "##  Subspace generation with the EPG simulation"
   ],
   "metadata": {}
  },
  {
   "outputs": [],
   "cell_type": "code",
   "source": [
    "B1_vec = 0.8:0.01:1.0\n",
    "T2_vec = 1.0:1.0:2000.0\n",
    "T1_vec = 1000.0\n",
    "TE = 7.0\n",
    "TR = 1000.0\n",
    "dummy=3\n",
    "ETL = 50\n",
    "NUM_BASIS = 6\n",
    "basis_epg,_= MESE_basis_EPG(NUM_BASIS,TE,ETL,T2_vec,B1_vec,T1_vec;TR=TR,dummy=dummy)\n",
    "lines(abs.(basis_epg[:,2]))"
   ],
   "metadata": {},
   "execution_count": null
  },
  {
   "cell_type": "markdown",
   "source": [
    "## Subspace reconstruction with EPG dictionary"
   ],
   "metadata": {}
  },
  {
   "outputs": [],
   "cell_type": "code",
   "source": [
    "params = Dict{Symbol,Any}()\n",
    "params[:reconSize] = acq.encodingSize\n",
    "params[:reco] = \"multiCoilMultiEchoSubspace\"\n",
    "\n",
    "params[:regularization] = \"L1\"\n",
    "params[:sparseTrafo] = \"Wavelet\" #sparse trafo\n",
    "params[:λ] = Float32(0.03)\n",
    "params[:solver] = \"fista\"\n",
    "params[:iterations] = 60\n",
    "#params[:iterationsInner] = 5\n",
    "params[:senseMaps] = coilsens\n",
    "params[:normalizeReg] = true\n",
    "params[:basis] = basis_epg\n",
    "\n",
    "α_epg = reconstruction(acq, params)\n",
    "im_TE_julia = abs.(applySubspace(α_epg, params[:basis]));"
   ],
   "metadata": {},
   "execution_count": null
  },
  {
   "cell_type": "markdown",
   "source": [
    "## BART reconstruction\n",
    "In order to use BartIO, we need to send the path to the bart library.\n",
    "You can check that it works with the following code\n",
    "```julia\n",
    "BartIO.set_bart_path(\"path_bart\")\n",
    "bart()\n",
    "```"
   ],
   "metadata": {}
  },
  {
   "outputs": [],
   "cell_type": "code",
   "source": [
    "if isfile(path_bart)\n",
    "    using Subspace_MESE.BartIO\n",
    "\n",
    "    params[:λ] = Float32(0.0025)\n",
    "    im_sub_bart,im_TE_bart = subspace_bart_reconstruction(acq,params,path_bart)\n",
    "end;"
   ],
   "metadata": {},
   "execution_count": null
  },
  {
   "cell_type": "markdown",
   "source": [
    "## Fitting of the data to obtain T₂ maps"
   ],
   "metadata": {}
  },
  {
   "outputs": [],
   "cell_type": "code",
   "source": [
    "TE_vec = Float32.(LinRange(TE,TE*ETL,ETL))\n",
    "\n",
    "sl = Tuple[]\n",
    "push!(sl,(:,:,slice_to_show))\n",
    "push!(sl,(:,65,:))\n",
    "push!(sl,(65,:,:))\n",
    "\n",
    "fit_und = Any[]\n",
    "fit_julia = Any[]\n",
    "fit_bart = Any[]\n",
    "for i in eachindex(sl)\n",
    "    push!(fit_und,Subspace_MESE.T2Fit_exp_noise(abs.(im_u_sos[sl[i]...,:,1,1]),TE_vec;removePoint=true,L=4))\n",
    "    push!(fit_julia,Subspace_MESE.T2Fit_exp_noise(abs.(im_TE_julia[sl[i]...,:,1,1]),TE_vec;removePoint=true,L=4))\n",
    "    if isfile(path_bart)\n",
    "        push!(fit_bart,Subspace_MESE.T2Fit_exp_noise(abs.(im_TE_bart[sl[i]...,1,1,:]),TE_vec;removePoint=true,L=4))\n",
    "    end;\n",
    "end"
   ],
   "metadata": {},
   "execution_count": null
  },
  {
   "cell_type": "markdown",
   "source": [
    "## Visualization of the article figure 8"
   ],
   "metadata": {}
  },
  {
   "outputs": [],
   "cell_type": "code",
   "source": [
    "using CairoMakie.Makie.MakieCore\n",
    "begin\n",
    "titlesize=20\n",
    "ylabelsize=20\n",
    "aspect = DataAspect()\n",
    "\n",
    "f=Figure(size=(1200,1600))\n",
    "#plot echo 1\n",
    "colorrange=MakieCore.Automatic()\n",
    "colormap=:grays\n",
    "\n",
    "ax = Axis(f[1,1];title=\"FFT\\n \",ylabel = \"Echo n°1\\nTE = 7 ms\",titlesize,ylabelsize)\n",
    "heatmap!(ax,circshift(im_u_sos[:,:,slice_to_show,1,1,1],(0,-10));colorrange,colormap)\n",
    "hidedecorations!(ax,label=false)\n",
    "ax = Axis(f[1,2];title=\"MRIReco\\nW=0.03\",titlesize)\n",
    "heatmap!(ax,circshift(im_TE_julia[:,:,slice_to_show,1,1,1],(0,-10));colorrange,colormap)\n",
    "hidedecorations!(ax)\n",
    "\n",
    "if(isfile(path_bart))\n",
    "    ax = Axis(f[1,3];title=\"BART\\nW=0.0025\",titlesize)\n",
    "    heatmap!(ax,circshift(abs.(im_TE_bart[:,:,slice_to_show,1,1,1]),(0,-10));colorrange,colormap)\n",
    "    hidedecorations!(ax)\n",
    "end\n",
    "\n",
    "#plot echo 10\n",
    "\n",
    "ax = Axis(f[2,1];ylabel = \"Echo n°10\\nTE = 70 ms\",titlesize,ylabelsize)\n",
    "heatmap!(ax,circshift(im_u_sos[:,:,slice_to_show,10,1,1],(0,-10));colorrange,colormap)\n",
    "hidedecorations!(ax,label=false)\n",
    "ax = Axis(f[2,2];titlesize)\n",
    "heatmap!(ax,circshift(im_TE_julia[:,:,slice_to_show,10,1,1],(0,-10));colorrange,colormap)\n",
    "hidedecorations!(ax)\n",
    "\n",
    "if(isfile(path_bart))\n",
    "    ax = Axis(f[2,3];titlesize)\n",
    "    heatmap!(ax,circshift(abs.(im_TE_bart[:,:,slice_to_show,1,1,10]),(0,-10));colorrange,colormap)\n",
    "    hidedecorations!(ax)\n",
    "end\n",
    "\n",
    "#plot T2 map\n",
    "colorrange=(0,150)\n",
    "colormap=:magma\n",
    "\n",
    "ax = Axis(f[3,1];ylabel = \"T₂ map: coronal\",titlesize,ylabelsize)\n",
    "heatmap!(ax,circshift(fit_und[1][:,:,2],(0,-10));colorrange,colormap)\n",
    "hidedecorations!(ax,label=false)\n",
    "ax = Axis(f[3,2])\n",
    "h=heatmap!(ax,circshift(fit_julia[1][:,:,2],(0,-10));colorrange,colormap)\n",
    "hidedecorations!(ax)\n",
    "if(isfile(path_bart))\n",
    "    ax = Axis(f[3,3])\n",
    "    heatmap!(ax,circshift(fit_bart[1][:,:,2],(0,-10));colorrange,colormap)\n",
    "    hidedecorations!(ax)\n",
    "end\n",
    "Colorbar(f[3,4],h,label = \"T₂ [ms]\",labelrotation=-pi/2,labelsize=20)\n",
    "#rowgap!(f.layout,3,10)\n",
    "\n",
    "#plot T2 sag\n",
    "sl_c = (0,20)\n",
    "ax = Axis(f[4,1];ylabel = \"T₂ map: sagittal\",titlesize,ylabelsize,aspect=128/96)\n",
    "heatmap!(ax,circshift(reverse(fit_und[2][:,:,2],dims=2),sl_c);colorrange,colormap)\n",
    "hidedecorations!(ax,label=false)\n",
    "ax = Axis(f[4,2],aspect=128/96)\n",
    "h=heatmap!(ax,circshift(reverse(fit_julia[2][:,:,2],dims=2),sl_c);colorrange,colormap)\n",
    "hidedecorations!(ax)\n",
    "if(isfile(path_bart))\n",
    "    ax = Axis(f[4,3],aspect=128/96)\n",
    "    heatmap!(ax,circshift(reverse(fit_bart[2][:,:,2],dims=2),sl_c);colorrange,colormap)\n",
    "    hidedecorations!(ax)\n",
    "end\n",
    "Colorbar(f[4,4],h,label = \"T₂ [ms]\",labelrotation=-pi/2,labelsize=20,height=Relative(0.85))\n",
    "rowgap!(f.layout,3,-10)\n",
    "\n",
    "#plot T2 axial\n",
    "sl_c = (-10,20)\n",
    "ax = Axis(f[5,1];ylabel = \"T₂ map : axial\",titlesize,ylabelsize,aspect=128/96)\n",
    "heatmap!(ax,circshift(reverse(fit_und[3][:,:,2],dims=2),sl_c);colorrange,colormap)\n",
    "hidedecorations!(ax,label=false)\n",
    "ax = Axis(f[5,2],aspect=128/96)\n",
    "h=heatmap!(ax,circshift(reverse(fit_julia[3][:,:,2],dims=2),sl_c);colorrange,colormap)\n",
    "hidedecorations!(ax)\n",
    "if(isfile(path_bart))\n",
    "    ax = Axis(f[5,3],aspect=128/96)\n",
    "    heatmap!(ax,circshift(reverse(fit_bart[3][:,:,2],dims=2),sl_c);colorrange,colormap)\n",
    "    hidedecorations!(ax)\n",
    "end\n",
    "Colorbar(f[5,4],h,label = \"T₂ [ms]\",labelrotation=-pi/2,labelsize=20,height=Relative(0.85))\n",
    "rowgap!(f.layout,4,-35)\n",
    "\n",
    "f\n",
    "end\n",
    "\n",
    "save(\"fig_bart_julia.png\",f)\n",
    "save(\"fig_bart_julia.eps\",f)\n",
    "save(\"fig_bart_julia.pdf\",f)"
   ],
   "metadata": {},
   "execution_count": null
  },
  {
   "cell_type": "markdown",
   "source": [
    "---\n",
    "\n",
    "*This notebook was generated using [Literate.jl](https://github.com/fredrikekre/Literate.jl).*"
   ],
   "metadata": {}
  }
 ],
 "nbformat_minor": 3,
 "metadata": {
  "language_info": {
   "file_extension": ".jl",
   "mimetype": "application/julia",
   "name": "julia",
   "version": "1.10.2"
  },
  "kernelspec": {
   "name": "julia-1.10",
   "display_name": "Julia 1.10.2",
   "language": "julia"
  }
 },
 "nbformat": 4
}
